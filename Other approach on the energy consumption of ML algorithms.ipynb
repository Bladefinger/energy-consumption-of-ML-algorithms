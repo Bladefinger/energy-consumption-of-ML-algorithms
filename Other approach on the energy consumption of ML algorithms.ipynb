{
 "cells": [
  {
   "cell_type": "code",
   "execution_count": 2,
   "metadata": {},
   "outputs": [],
   "source": [
    "import numpy as np\n",
    "import matplotlib.pyplot as plt\n",
    "import seaborn as sns\n",
    "import pandas as pd"
   ]
  },
  {
   "cell_type": "code",
   "execution_count": 3,
   "metadata": {},
   "outputs": [
    {
     "name": "stderr",
     "output_type": "stream",
     "text": [
      "WARNING:root:pynvml not found you can't use NVIDIA devices\n"
     ]
    }
   ],
   "source": [
    "from pyJoules.device import DeviceFactory\n",
    "from pyJoules.device.rapl_device import RaplPackageDomain\n",
    "from pyJoules.energy_meter import EnergyMeter\n",
    "from pyJoules.handler.pandas_handler import PandasHandler\n",
    "from pyJoules.energy_meter import EnergyContext"
   ]
  },
  {
   "cell_type": "code",
   "execution_count": 4,
   "metadata": {},
   "outputs": [],
   "source": [
    "from sklearn.datasets import load_diabetes\n",
    "from sklearn.model_selection import learning_curve, cross_val_score"
   ]
  },
  {
   "cell_type": "code",
   "execution_count": 5,
   "metadata": {},
   "outputs": [
    {
     "name": "stdout",
     "output_type": "stream",
     "text": [
      "(442, 10)\n"
     ]
    }
   ],
   "source": [
    "diabete = load_diabetes()\n",
    "\n",
    "X = diabete.data\n",
    "y = diabete.target\n",
    "\n",
    "print(X.shape)"
   ]
  },
  {
   "cell_type": "code",
   "execution_count": 6,
   "metadata": {},
   "outputs": [
    {
     "name": "stdout",
     "output_type": "stream",
     "text": [
      "train set :  (353, 10)\n",
      "test set :  (89, 10)\n"
     ]
    }
   ],
   "source": [
    "from sklearn.model_selection import train_test_split\n",
    "\n",
    "X_train, X_test, y_train, y_test = train_test_split(X, y, test_size = 0.2,  random_state= 5)\n",
    "\n",
    "print('train set : ', X_train.shape)\n",
    "print('test set : ', X_test.shape)"
   ]
  },
  {
   "cell_type": "code",
   "execution_count": 14,
   "metadata": {},
   "outputs": [],
   "source": [
    "from sklearn.neighbors import KNeighborsClassifier"
   ]
  },
  {
   "cell_type": "code",
   "execution_count": 15,
   "metadata": {},
   "outputs": [],
   "source": [
    "model_knn = KNeighborsClassifier(1)"
   ]
  },
  {
   "cell_type": "code",
   "execution_count": 8,
   "metadata": {
    "scrolled": true
   },
   "outputs": [
    {
     "name": "stdout",
     "output_type": "stream",
     "text": [
      "ALL SCORE\n",
      "[[{'score': 0.015384615384615385}, 0.0005986690521240234, 0.00575566291809082, {'energie': 72509.0}], [{'score': 0.0}, 0.0005071163177490234, 0.0031290054321289062, {'energie': 72509.0}], [{'score': 0.022727272727272728}, 0.0005049705505371094, 0.0019490718841552734, {'energie': 72509.0}], [{'score': 0.0}, 0.0005826950073242188, 0.0010976791381835938, {'energie': 72509.0}], [{'score': 0.0}, 0.0006368160247802734, 0.000736236572265625, {'energie': 72509.0}]]\n",
      "ZIP SCORE\n",
      "[({'score': 0.015384615384615385}, {'score': 0.0}, {'score': 0.022727272727272728}, {'score': 0.0}, {'score': 0.0}), (0.0005986690521240234, 0.0005071163177490234, 0.0005049705505371094, 0.0005826950073242188, 0.0006368160247802734), (0.00575566291809082, 0.0031290054321289062, 0.0019490718841552734, 0.0010976791381835938, 0.000736236572265625), ({'energie': 72509.0}, {'energie': 72509.0}, {'energie': 72509.0}, {'energie': 72509.0}, {'energie': 72509.0})]\n"
     ]
    },
    {
     "name": "stderr",
     "output_type": "stream",
     "text": [
      "/home/psyko/anaconda3/lib/python3.7/site-packages/sklearn/model_selection/_split.py:657: Warning: The least populated class in y has only 1 members, which is too few. The minimum number of members in any class cannot be less than n_splits=5.\n",
      "  % (min_groups, self.n_splits)), Warning)\n"
     ]
    },
    {
     "ename": "ValueError",
     "evalue": "too many values to unpack (expected 3)",
     "output_type": "error",
     "traceback": [
      "\u001b[0;31m---------------------------------------------------------------------------\u001b[0m",
      "\u001b[0;31mValueError\u001b[0m                                Traceback (most recent call last)",
      "\u001b[0;32m<ipython-input-8-515eddc51f40>\u001b[0m in \u001b[0;36m<module>\u001b[0;34m\u001b[0m\n\u001b[1;32m      1\u001b[0m \u001b[0;31m#N, train_score, test_score = learning_curve(model_knn, X_train, y_train, train_sizes = np.linspace(0.2, 1, 5), cv = 5)\u001b[0m\u001b[0;34m\u001b[0m\u001b[0;34m\u001b[0m\u001b[0;34m\u001b[0m\u001b[0m\n\u001b[1;32m      2\u001b[0m \u001b[0;34m\u001b[0m\u001b[0m\n\u001b[0;32m----> 3\u001b[0;31m \u001b[0mresultat_score\u001b[0m\u001b[0;34m,\u001b[0m\u001b[0menergie_cost\u001b[0m \u001b[0;34m=\u001b[0m \u001b[0mcross_val_score\u001b[0m\u001b[0;34m(\u001b[0m\u001b[0mmodel_knn\u001b[0m\u001b[0;34m,\u001b[0m \u001b[0mX_train\u001b[0m\u001b[0;34m,\u001b[0m \u001b[0my_train\u001b[0m\u001b[0;34m,\u001b[0m\u001b[0mcv\u001b[0m\u001b[0;34m=\u001b[0m\u001b[0;36m5\u001b[0m\u001b[0;34m)\u001b[0m\u001b[0;34m\u001b[0m\u001b[0;34m\u001b[0m\u001b[0m\n\u001b[0m",
      "\u001b[0;32m~/anaconda3/lib/python3.7/site-packages/sklearn/model_selection/_validation.py\u001b[0m in \u001b[0;36mcross_val_score\u001b[0;34m(estimator, X, y, groups, scoring, cv, n_jobs, verbose, fit_params, pre_dispatch, error_score)\u001b[0m\n\u001b[1;32m    400\u001b[0m                                 \u001b[0mfit_params\u001b[0m\u001b[0;34m=\u001b[0m\u001b[0mfit_params\u001b[0m\u001b[0;34m,\u001b[0m\u001b[0;34m\u001b[0m\u001b[0;34m\u001b[0m\u001b[0m\n\u001b[1;32m    401\u001b[0m                                 \u001b[0mpre_dispatch\u001b[0m\u001b[0;34m=\u001b[0m\u001b[0mpre_dispatch\u001b[0m\u001b[0;34m,\u001b[0m\u001b[0;34m\u001b[0m\u001b[0;34m\u001b[0m\u001b[0m\n\u001b[0;32m--> 402\u001b[0;31m                                 error_score=error_score)\n\u001b[0m\u001b[1;32m    403\u001b[0m     \u001b[0;32mreturn\u001b[0m \u001b[0mcv_results\u001b[0m\u001b[0;34m[\u001b[0m\u001b[0;34m'test_score'\u001b[0m\u001b[0;34m]\u001b[0m\u001b[0;34m,\u001b[0m\u001b[0mcv_results\u001b[0m\u001b[0;34m[\u001b[0m\u001b[0;34m'energie'\u001b[0m\u001b[0;34m]\u001b[0m\u001b[0;34m\u001b[0m\u001b[0;34m\u001b[0m\u001b[0m\n\u001b[1;32m    404\u001b[0m \u001b[0;34m\u001b[0m\u001b[0m\n",
      "\u001b[0;32m~/anaconda3/lib/python3.7/site-packages/sklearn/model_selection/_validation.py\u001b[0m in \u001b[0;36mcross_validate\u001b[0;34m(estimator, X, y, groups, scoring, cv, n_jobs, verbose, fit_params, pre_dispatch, return_train_score, return_estimator, error_score)\u001b[0m\n\u001b[1;32m    248\u001b[0m     \u001b[0;32mif\u001b[0m \u001b[0mreturn_estimator\u001b[0m\u001b[0;34m:\u001b[0m\u001b[0;34m\u001b[0m\u001b[0;34m\u001b[0m\u001b[0m\n\u001b[1;32m    249\u001b[0m         \u001b[0mfitted_estimators\u001b[0m \u001b[0;34m=\u001b[0m \u001b[0mzipped_scores\u001b[0m\u001b[0;34m.\u001b[0m\u001b[0mpop\u001b[0m\u001b[0;34m(\u001b[0m\u001b[0;34m)\u001b[0m\u001b[0;34m\u001b[0m\u001b[0;34m\u001b[0m\u001b[0m\n\u001b[0;32m--> 250\u001b[0;31m     \u001b[0mtest_scores\u001b[0m\u001b[0;34m,\u001b[0m \u001b[0mfit_times\u001b[0m\u001b[0;34m,\u001b[0m \u001b[0mscore_times\u001b[0m \u001b[0;34m=\u001b[0m \u001b[0mzipped_scores\u001b[0m\u001b[0;34m\u001b[0m\u001b[0;34m\u001b[0m\u001b[0m\n\u001b[0m\u001b[1;32m    251\u001b[0m     \u001b[0mtest_scores\u001b[0m \u001b[0;34m=\u001b[0m \u001b[0m_aggregate_score_dicts\u001b[0m\u001b[0;34m(\u001b[0m\u001b[0mtest_scores\u001b[0m\u001b[0;34m)\u001b[0m\u001b[0;34m\u001b[0m\u001b[0;34m\u001b[0m\u001b[0m\n\u001b[1;32m    252\u001b[0m     \u001b[0;31m#energie_cost = _aggregate_score_dicts(energie_cost)\u001b[0m\u001b[0;34m\u001b[0m\u001b[0;34m\u001b[0m\u001b[0;34m\u001b[0m\u001b[0m\n",
      "\u001b[0;31mValueError\u001b[0m: too many values to unpack (expected 3)"
     ]
    }
   ],
   "source": [
    "#N, train_score, test_score = learning_curve(model_knn, X_train, y_train, train_sizes = np.linspace(0.2, 1, 5), cv = 5)\n",
    "\n",
    "resultat_score,energie_cost = cross_val_score(model_knn, X_train, y_train,cv=5)\n"
   ]
  },
  {
   "cell_type": "code",
   "execution_count": 10,
   "metadata": {},
   "outputs": [],
   "source": [
    "from pyJoules.device import DeviceFactory\n",
    "from pyJoules.device.rapl_device import RaplPackageDomain\n",
    "from pyJoules.energy_meter import EnergyMeter\n",
    "from pyJoules.handler.pandas_handler import PandasHandler\n",
    "from pyJoules.energy_meter import EnergyContext\n",
    "\n",
    "domains = [RaplPackageDomain(0)]\n",
    "devices = DeviceFactory.create_devices(domains)\n",
    "meter = EnergyMeter(devices)\n",
    "\n",
    "#meter.start(tag='model_knn')\n",
    "#model_knn.fit(X_train, y_train)\n",
    "#meter.stop()\n",
    "\n",
    "#trace = meter.get_trace()\n",
    "\n",
    "pandas_handler = PandasHandler()\n",
    "\n",
    "with EnergyContext(handler=pandas_handler, domains=[RaplPackageDomain(0)], start_tag='model_knn') as ctx:\n",
    "    meter.start(tag='model_knn')\n",
    "    model_knn.fit(X_train, y_train)\n",
    "    meter.stop()\n",
    "\n",
    "df = pandas_handler.get_dataframe()"
   ]
  },
  {
   "cell_type": "code",
   "execution_count": null,
   "metadata": {},
   "outputs": [],
   "source": [
    "from sklearn.model_selection import learning_curve\n",
    "with EnergyContext(domains=[RaplPackageDomain(0)], start_tag='model_knn') as ctx:\n",
    "    model_knn.fit(X_train, y_train)\n",
    "    ctx.record(tag='learning_curve')"
   ]
  }
 ],
 "metadata": {
  "kernelspec": {
   "display_name": "Python 3",
   "language": "python",
   "name": "python3"
  },
  "language_info": {
   "codemirror_mode": {
    "name": "ipython",
    "version": 3
   },
   "file_extension": ".py",
   "mimetype": "text/x-python",
   "name": "python",
   "nbconvert_exporter": "python",
   "pygments_lexer": "ipython3",
   "version": "3.7.3"
  }
 },
 "nbformat": 4,
 "nbformat_minor": 2
}
